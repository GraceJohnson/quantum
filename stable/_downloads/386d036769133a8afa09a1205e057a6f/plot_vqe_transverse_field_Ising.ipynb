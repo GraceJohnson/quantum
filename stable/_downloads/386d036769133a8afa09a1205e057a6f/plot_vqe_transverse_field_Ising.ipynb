{
  "cells": [
    {
      "cell_type": "code",
      "execution_count": null,
      "metadata": {
        "collapsed": false
      },
      "outputs": [],
      "source": [
        "%matplotlib inline"
      ]
    },
    {
      "cell_type": "markdown",
      "metadata": {},
      "source": [
        "\n# Variational Quantum Eigensolver\n\nVariational Quantum Eigensolver [1] (VQE) with Transverse Field Ising Model Hamiltonian using TensorLy-Quantum.\nTensorLy-Quantum provides a TT-tensor network circuit simulator for large-scale simulation of variational quantum circuits\nin a Pythonic/PyTorchian interface with full Autograd support similar to traditional PyTorch Neural Networks.\n"
      ]
    },
    {
      "cell_type": "code",
      "execution_count": null,
      "metadata": {
        "collapsed": false
      },
      "outputs": [],
      "source": [
        "import tensorly as tl\nimport tlquantum as tlq\nfrom tensorly.tt_matrix import TTMatrix\nfrom torch import randint, rand, arange\nfrom torch.optim import Adam\nimport matplotlib.pyplot as plt"
      ]
    },
    {
      "cell_type": "code",
      "execution_count": null,
      "metadata": {
        "collapsed": false
      },
      "outputs": [],
      "source": [
        "#device = 'cuda' # Use GPU\ndevice = 'cpu' # Use CPU\n\nnepochs = 80 #number of training epochs\n\nnqubits = 5 #number of qubits\nncontraq = 2 #2 #number of qubits to pre-contract into single core\nncontral = 2 #2 #number of layers to pre-contract into a single core\nnterms = 10\nlr = 0.5"
      ]
    },
    {
      "cell_type": "code",
      "execution_count": null,
      "metadata": {
        "collapsed": false
      },
      "outputs": [],
      "source": [
        "state = tlq.spins_to_tt_state([0 for i in range(nqubits)], device) # generate generic zero state |00000>\nstate = tlq.qubits_contract(state, ncontraq)"
      ]
    },
    {
      "cell_type": "markdown",
      "metadata": {},
      "source": [
        "two-qubit terms\n\n"
      ]
    },
    {
      "cell_type": "code",
      "execution_count": null,
      "metadata": {
        "collapsed": false
      },
      "outputs": [],
      "source": [
        "qubits1 = randint(nqubits, (nterms,), device=device) # randomly generated first qubits of each two-qubit term\nqubits2 = randint(nqubits, (nterms,), device=device) # randomly generated second qubits of each two-qubit term\nqubits2[qubits2==qubits1] += 1 # because qubits in this Hamiltonian randomly generated, eliminate self-interacting terms\nqubits2[qubits2 >= nqubits] = 0\nweights = rand((nterms,), device=device) # randomly generated coefficients of each two-qubit interaction in Hamiltonian\nbinary_H = tlq.binary_hamiltonian(tlq.pauli_z(device), nqubits, qubits1, qubits2, weights) # build the spin-spin Hamiltonian H"
      ]
    },
    {
      "cell_type": "code",
      "execution_count": null,
      "metadata": {
        "collapsed": false
      },
      "outputs": [],
      "source": [
        "qubits = arange(nqubits, device=device) # specify that each qubit will have a transverse field term\nweights = rand((nqubits,), device=device) # randomly generated coefficients for the transverse field felt by each qubit\nunary_H = tlq.unary_hamiltonian(tlq.pauli_x(device), nqubits, qubits, weights) #build the transverse field Hamiltonian"
      ]
    },
    {
      "cell_type": "code",
      "execution_count": null,
      "metadata": {
        "collapsed": false
      },
      "outputs": [],
      "source": [
        "Ising_H = tlq.tt_matrix_sum(binary_H, unary_H)"
      ]
    },
    {
      "cell_type": "code",
      "execution_count": null,
      "metadata": {
        "collapsed": false
      },
      "outputs": [],
      "source": [
        "custom_U = tlq.Unitary([tlq.RotY(device), *tlq.so4(0,1, device), tlq.RotY(device), *tlq.so4(2, 3, device)], nqubits, ncontraq)"
      ]
    },
    {
      "cell_type": "code",
      "execution_count": null,
      "metadata": {
        "collapsed": false
      },
      "outputs": [],
      "source": [
        "RotY = tlq.UnaryGatesUnitary(nqubits, ncontraq, device=device) # one Y-axis rotation gate applied to each qubit of the circuit\nparity = 0\nCZ0 = tlq.BinaryGatesUnitary(nqubits, ncontraq, tlq.cz(device=device), parity) # one controlled-z gate for each pair of qubits using even parity (even qubits control)\nparity = 1\nSO4_01 = tlq.BinaryGatesUnitary(nqubits, ncontraq, tlq.so4(2,3, device=device), parity) # one SO4 rotation about two-qubit states |2> and |3> with odd parity"
      ]
    },
    {
      "cell_type": "code",
      "execution_count": null,
      "metadata": {
        "collapsed": false
      },
      "outputs": [],
      "source": [
        "unitaries = [RotY, SO4_01, tlq.UnaryGatesUnitary(nqubits, ncontraq, device=device), CZ0]"
      ]
    },
    {
      "cell_type": "code",
      "execution_count": null,
      "metadata": {
        "collapsed": false
      },
      "outputs": [],
      "source": [
        "repeat_block, unitaries_automatic = 3, []\nfor i in range(repeat_block):\n    unitaries_automatic += unitaries"
      ]
    },
    {
      "cell_type": "code",
      "execution_count": null,
      "metadata": {
        "collapsed": false
      },
      "outputs": [],
      "source": [
        "circuit = tlq.TTCircuit(unitaries, ncontraq, ncontral)\nopt = Adam(circuit.parameters(), lr=lr, amsgrad=True) # define PyTorch optimizer\nenergy_vec = tl.zeros(nepochs)\n\nfor epoch in range(nepochs):\n    # TTCircuit forward pass computes expectation value of Ising_H\n    energy = circuit.forward_expectation_value(state, Ising_H)\n    print('Energy (loss) at epoch ' + str(epoch) + ' is ' + str(energy[0].item()) + '. \\n')\n\n    # PyTorch Autograd attends to backwards pass and parameter update\n    energy.backward()\n    opt.step()\n    opt.zero_grad(epoch)\n    energy_vec[epoch] = energy\n\n\nIsing_H = TTMatrix(Ising_H).to_matrix()\ntrue_energies, _ = tl.eigh(Ising_H)\nground_state_energy = true_energies[0]\nplt.figure()\nplt.plot(energy_vec.detach().numpy(), color='r', linewidth=5)\nplt.hlines(ground_state_energy, 0, nepochs, color='k', linewidth=5, linestyle='--')\nplt.xlabel('Epochs', fontsize=20)\nplt.ylabel('Energy', fontsize=20)\nplt.xticks(fontsize=20)\nplt.yticks(fontsize=20)\nplt.legend(['Variational Solution', 'Ground Truth'], fontsize=20)\nplt.show()"
      ]
    }
  ],
  "metadata": {
    "kernelspec": {
      "display_name": "Python 3",
      "language": "python",
      "name": "python3"
    },
    "language_info": {
      "codemirror_mode": {
        "name": "ipython",
        "version": 3
      },
      "file_extension": ".py",
      "mimetype": "text/x-python",
      "name": "python",
      "nbconvert_exporter": "python",
      "pygments_lexer": "ipython3",
      "version": "3.8.12"
    }
  },
  "nbformat": 4,
  "nbformat_minor": 0
}